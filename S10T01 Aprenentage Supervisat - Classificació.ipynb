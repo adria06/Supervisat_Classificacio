{
 "cells": [
  {
   "cell_type": "markdown",
   "id": "6feda01a",
   "metadata": {},
   "source": [
    "# S10 T01: Aprenentage Supervisat  - Classificació\n",
    "\n",
    "**Objectius:**\n",
    " - Arbres de classificació\n",
    " - KNN - k-Nearest Neighbors\n",
    " - Regressió Logística\n",
    " - Support Vector Machine\n",
    " - XGboost\n",
    "\n",
    "## Exercise 1:\n",
    "\n",
    "Create at least three different classification models to try to best predict DelayedFlights.csv flight delay (ArrDelay). Consider whether the flight is late or not (ArrDelay> 0)."
   ]
  },
  {
   "cell_type": "code",
   "execution_count": 135,
   "id": "bf2128b1",
   "metadata": {},
   "outputs": [],
   "source": [
    "import numpy as np\n",
    "import pandas as pd\n",
    "import matplotlib.pyplot as plt\n",
    "import seaborn as sns\n",
    "\n",
    "from sklearn.model_selection import train_test_split\n",
    "from sklearn import metrics"
   ]
  },
  {
   "cell_type": "code",
   "execution_count": 136,
   "id": "81e8cf47",
   "metadata": {},
   "outputs": [],
   "source": [
    "# We upload a sample cleaned from NaN from the Exercise S09 T01\n",
    "df_sample = pd.read_csv('DelayFlightsNOPreparedDataSample.csv')"
   ]
  },
  {
   "cell_type": "code",
   "execution_count": 137,
   "id": "3aa5a994",
   "metadata": {},
   "outputs": [
    {
     "data": {
      "text/plain": [
       "(20000, 27)"
      ]
     },
     "execution_count": 137,
     "metadata": {},
     "output_type": "execute_result"
    }
   ],
   "source": [
    "df_sample.shape"
   ]
  },
  {
   "cell_type": "code",
   "execution_count": 138,
   "id": "d96f0e51",
   "metadata": {
    "scrolled": true
   },
   "outputs": [
    {
     "name": "stdout",
     "output_type": "stream",
     "text": [
      "<class 'pandas.core.frame.DataFrame'>\n",
      "RangeIndex: 20000 entries, 0 to 19999\n",
      "Data columns (total 27 columns):\n",
      " #   Column             Non-Null Count  Dtype  \n",
      "---  ------             --------------  -----  \n",
      " 0   Year               20000 non-null  int64  \n",
      " 1   Month              20000 non-null  int64  \n",
      " 2   DayofMonth         20000 non-null  int64  \n",
      " 3   DayOfWeek          20000 non-null  int64  \n",
      " 4   DepTime            20000 non-null  float64\n",
      " 5   CRSDepTime         20000 non-null  int64  \n",
      " 6   ArrTime            20000 non-null  float64\n",
      " 7   CRSArrTime         20000 non-null  int64  \n",
      " 8   UniqueCarrier      20000 non-null  object \n",
      " 9   ActualElapsedTime  20000 non-null  float64\n",
      " 10  CRSElapsedTime     20000 non-null  float64\n",
      " 11  AirTime            20000 non-null  float64\n",
      " 12  ArrDelay           20000 non-null  float64\n",
      " 13  DepDelay           20000 non-null  float64\n",
      " 14  Origin             20000 non-null  object \n",
      " 15  Dest               20000 non-null  object \n",
      " 16  Distance           20000 non-null  int64  \n",
      " 17  TaxiIn             20000 non-null  float64\n",
      " 18  TaxiOut            20000 non-null  float64\n",
      " 19  Cancelled          20000 non-null  int64  \n",
      " 20  CancellationCode   20000 non-null  object \n",
      " 21  Diverted           20000 non-null  int64  \n",
      " 22  CarrierDelay       20000 non-null  float64\n",
      " 23  WeatherDelay       20000 non-null  float64\n",
      " 24  NASDelay           20000 non-null  float64\n",
      " 25  SecurityDelay      20000 non-null  float64\n",
      " 26  LateAircraftDelay  20000 non-null  float64\n",
      "dtypes: float64(14), int64(9), object(4)\n",
      "memory usage: 4.1+ MB\n"
     ]
    }
   ],
   "source": [
    "df_sample.info()"
   ]
  },
  {
   "cell_type": "markdown",
   "id": "26780eb0",
   "metadata": {},
   "source": [
    "We remove some variables that only are just noise to the models as they do not have any relacion with the Arrival Delays, so we eliminate the Delay reasons (#22 to 26), cancelled, cancellationcode, diverted (#19 to 21) and the schedule variables (#5,7 & 10)"
   ]
  },
  {
   "cell_type": "code",
   "execution_count": 139,
   "id": "d13faf1b",
   "metadata": {},
   "outputs": [
    {
     "data": {
      "text/plain": [
       "Index(['Year', 'Month', 'DayofMonth', 'DayOfWeek', 'DepTime', 'CRSDepTime',\n",
       "       'ArrTime', 'CRSArrTime', 'UniqueCarrier', 'ActualElapsedTime',\n",
       "       'CRSElapsedTime', 'AirTime', 'ArrDelay', 'DepDelay', 'Origin', 'Dest',\n",
       "       'Distance', 'TaxiIn', 'TaxiOut', 'Cancelled', 'CancellationCode',\n",
       "       'Diverted', 'CarrierDelay', 'WeatherDelay', 'NASDelay', 'SecurityDelay',\n",
       "       'LateAircraftDelay'],\n",
       "      dtype='object')"
      ]
     },
     "execution_count": 139,
     "metadata": {},
     "output_type": "execute_result"
    }
   ],
   "source": [
    "df_all_columns = df_sample.columns\n",
    "df_all_columns"
   ]
  },
  {
   "cell_type": "code",
   "execution_count": 140,
   "id": "27019e1e",
   "metadata": {},
   "outputs": [
    {
     "data": {
      "text/plain": [
       "['CRSDepTime',\n",
       " 'CRSArrTime',\n",
       " 'CRSElapsedTime',\n",
       " 'Cancelled',\n",
       " 'CancellationCode',\n",
       " 'Diverted',\n",
       " 'CarrierDelay',\n",
       " 'WeatherDelay',\n",
       " 'NASDelay',\n",
       " 'SecurityDelay',\n",
       " 'LateAircraftDelay']"
      ]
     },
     "execution_count": 140,
     "metadata": {},
     "output_type": "execute_result"
    }
   ],
   "source": [
    "df_column_del = ['CRSDepTime', 'CRSArrTime', 'CRSElapsedTime', 'Cancelled', 'CancellationCode',\n",
    "       'Diverted', 'CarrierDelay', 'WeatherDelay', 'NASDelay', 'SecurityDelay',\n",
    "       'LateAircraftDelay']\n",
    "df_column_del"
   ]
  },
  {
   "cell_type": "code",
   "execution_count": 141,
   "id": "a262339e",
   "metadata": {},
   "outputs": [
    {
     "name": "stdout",
     "output_type": "stream",
     "text": [
      "<class 'pandas.core.frame.DataFrame'>\n",
      "RangeIndex: 20000 entries, 0 to 19999\n",
      "Data columns (total 16 columns):\n",
      " #   Column             Non-Null Count  Dtype  \n",
      "---  ------             --------------  -----  \n",
      " 0   Year               20000 non-null  int64  \n",
      " 1   Month              20000 non-null  int64  \n",
      " 2   DayofMonth         20000 non-null  int64  \n",
      " 3   DayOfWeek          20000 non-null  int64  \n",
      " 4   DepTime            20000 non-null  float64\n",
      " 5   ArrTime            20000 non-null  float64\n",
      " 6   UniqueCarrier      20000 non-null  object \n",
      " 7   ActualElapsedTime  20000 non-null  float64\n",
      " 8   AirTime            20000 non-null  float64\n",
      " 9   ArrDelay           20000 non-null  float64\n",
      " 10  DepDelay           20000 non-null  float64\n",
      " 11  Origin             20000 non-null  object \n",
      " 12  Dest               20000 non-null  object \n",
      " 13  Distance           20000 non-null  int64  \n",
      " 14  TaxiIn             20000 non-null  float64\n",
      " 15  TaxiOut            20000 non-null  float64\n",
      "dtypes: float64(8), int64(5), object(3)\n",
      "memory usage: 2.4+ MB\n"
     ]
    }
   ],
   "source": [
    "df_columns = [c for c in df_all_columns if (c not in df_column_del)]\n",
    "df2 = df_sample[df_columns]\n",
    "df2.info()"
   ]
  },
  {
   "cell_type": "markdown",
   "id": "4a00d4fb",
   "metadata": {},
   "source": [
    "Before doing a Dummy Variable to convert categorical values to numeric we remove the origin and destination with less than 10 flights to reduce the number of columns with almost no information. We don´t apply the same logic to the Unique Carriers as only 1 have less than 10 flights"
   ]
  },
  {
   "cell_type": "code",
   "execution_count": 142,
   "id": "5b1806e4",
   "metadata": {},
   "outputs": [
    {
     "data": {
      "text/html": [
       "<div>\n",
       "<style scoped>\n",
       "    .dataframe tbody tr th:only-of-type {\n",
       "        vertical-align: middle;\n",
       "    }\n",
       "\n",
       "    .dataframe tbody tr th {\n",
       "        vertical-align: top;\n",
       "    }\n",
       "\n",
       "    .dataframe thead th {\n",
       "        text-align: right;\n",
       "    }\n",
       "</style>\n",
       "<table border=\"1\" class=\"dataframe\">\n",
       "  <thead>\n",
       "    <tr style=\"text-align: right;\">\n",
       "      <th></th>\n",
       "      <th>Year</th>\n",
       "      <th>Month</th>\n",
       "      <th>DayofMonth</th>\n",
       "      <th>DayOfWeek</th>\n",
       "      <th>DepTime</th>\n",
       "      <th>ArrTime</th>\n",
       "      <th>UniqueCarrier</th>\n",
       "      <th>ActualElapsedTime</th>\n",
       "      <th>AirTime</th>\n",
       "      <th>ArrDelay</th>\n",
       "      <th>DepDelay</th>\n",
       "      <th>Origin</th>\n",
       "      <th>Dest</th>\n",
       "      <th>Distance</th>\n",
       "      <th>TaxiIn</th>\n",
       "      <th>TaxiOut</th>\n",
       "    </tr>\n",
       "  </thead>\n",
       "  <tbody>\n",
       "    <tr>\n",
       "      <th>0</th>\n",
       "      <td>2008</td>\n",
       "      <td>2</td>\n",
       "      <td>24</td>\n",
       "      <td>7</td>\n",
       "      <td>1350.0</td>\n",
       "      <td>1950.0</td>\n",
       "      <td>AA</td>\n",
       "      <td>360.0</td>\n",
       "      <td>285.0</td>\n",
       "      <td>245.0</td>\n",
       "      <td>50.0</td>\n",
       "      <td>ORD</td>\n",
       "      <td>SFO</td>\n",
       "      <td>1846</td>\n",
       "      <td>9.0</td>\n",
       "      <td>66.0</td>\n",
       "    </tr>\n",
       "    <tr>\n",
       "      <th>1</th>\n",
       "      <td>2008</td>\n",
       "      <td>8</td>\n",
       "      <td>15</td>\n",
       "      <td>5</td>\n",
       "      <td>1444.0</td>\n",
       "      <td>1558.0</td>\n",
       "      <td>OO</td>\n",
       "      <td>74.0</td>\n",
       "      <td>54.0</td>\n",
       "      <td>3.0</td>\n",
       "      <td>9.0</td>\n",
       "      <td>SFO</td>\n",
       "      <td>ACV</td>\n",
       "      <td>250</td>\n",
       "      <td>5.0</td>\n",
       "      <td>15.0</td>\n",
       "    </tr>\n",
       "    <tr>\n",
       "      <th>2</th>\n",
       "      <td>2008</td>\n",
       "      <td>6</td>\n",
       "      <td>13</td>\n",
       "      <td>5</td>\n",
       "      <td>2.0</td>\n",
       "      <td>513.0</td>\n",
       "      <td>UA</td>\n",
       "      <td>311.0</td>\n",
       "      <td>292.0</td>\n",
       "      <td>-158.0</td>\n",
       "      <td>42.0</td>\n",
       "      <td>SFO</td>\n",
       "      <td>BOS</td>\n",
       "      <td>2704</td>\n",
       "      <td>7.0</td>\n",
       "      <td>12.0</td>\n",
       "    </tr>\n",
       "    <tr>\n",
       "      <th>3</th>\n",
       "      <td>2008</td>\n",
       "      <td>5</td>\n",
       "      <td>21</td>\n",
       "      <td>3</td>\n",
       "      <td>2316.0</td>\n",
       "      <td>2448.0</td>\n",
       "      <td>US</td>\n",
       "      <td>92.0</td>\n",
       "      <td>77.0</td>\n",
       "      <td>64.0</td>\n",
       "      <td>77.0</td>\n",
       "      <td>CLT</td>\n",
       "      <td>DTW</td>\n",
       "      <td>500</td>\n",
       "      <td>4.0</td>\n",
       "      <td>11.0</td>\n",
       "    </tr>\n",
       "    <tr>\n",
       "      <th>4</th>\n",
       "      <td>2008</td>\n",
       "      <td>12</td>\n",
       "      <td>5</td>\n",
       "      <td>5</td>\n",
       "      <td>951.0</td>\n",
       "      <td>1138.0</td>\n",
       "      <td>AS</td>\n",
       "      <td>107.0</td>\n",
       "      <td>88.0</td>\n",
       "      <td>64.0</td>\n",
       "      <td>66.0</td>\n",
       "      <td>SJC</td>\n",
       "      <td>PDX</td>\n",
       "      <td>569</td>\n",
       "      <td>2.0</td>\n",
       "      <td>17.0</td>\n",
       "    </tr>\n",
       "  </tbody>\n",
       "</table>\n",
       "</div>"
      ],
      "text/plain": [
       "   Year  Month  DayofMonth  DayOfWeek  DepTime  ArrTime UniqueCarrier  \\\n",
       "0  2008      2          24          7   1350.0   1950.0            AA   \n",
       "1  2008      8          15          5   1444.0   1558.0            OO   \n",
       "2  2008      6          13          5      2.0    513.0            UA   \n",
       "3  2008      5          21          3   2316.0   2448.0            US   \n",
       "4  2008     12           5          5    951.0   1138.0            AS   \n",
       "\n",
       "   ActualElapsedTime  AirTime  ArrDelay  DepDelay Origin Dest  Distance  \\\n",
       "0              360.0    285.0     245.0      50.0    ORD  SFO      1846   \n",
       "1               74.0     54.0       3.0       9.0    SFO  ACV       250   \n",
       "2              311.0    292.0    -158.0      42.0    SFO  BOS      2704   \n",
       "3               92.0     77.0      64.0      77.0    CLT  DTW       500   \n",
       "4              107.0     88.0      64.0      66.0    SJC  PDX       569   \n",
       "\n",
       "   TaxiIn  TaxiOut  \n",
       "0     9.0     66.0  \n",
       "1     5.0     15.0  \n",
       "2     7.0     12.0  \n",
       "3     4.0     11.0  \n",
       "4     2.0     17.0  "
      ]
     },
     "execution_count": 142,
     "metadata": {},
     "output_type": "execute_result"
    }
   ],
   "source": [
    "df2.head()"
   ]
  },
  {
   "cell_type": "code",
   "execution_count": 143,
   "id": "75a486f3",
   "metadata": {},
   "outputs": [
    {
     "data": {
      "text/plain": [
       "WN    3831\n",
       "AA    1962\n",
       "UA    1524\n",
       "MQ    1480\n",
       "OO    1369\n",
       "DL    1136\n",
       "US    1094\n",
       "XE    1033\n",
       "CO    1031\n",
       "EV     818\n",
       "NW     812\n",
       "FL     726\n",
       "YV     704\n",
       "B6     592\n",
       "9E     574\n",
       "OH     530\n",
       "AS     404\n",
       "F9     275\n",
       "HA      96\n",
       "AQ       9\n",
       "Name: UniqueCarrier, dtype: int64"
      ]
     },
     "execution_count": 143,
     "metadata": {},
     "output_type": "execute_result"
    }
   ],
   "source": [
    "df2['UniqueCarrier'].value_counts()"
   ]
  },
  {
   "cell_type": "code",
   "execution_count": 144,
   "id": "8cac320f",
   "metadata": {},
   "outputs": [
    {
     "data": {
      "text/plain": [
       "ORD    1364\n",
       "ATL    1350\n",
       "DFW     999\n",
       "DEN     746\n",
       "LAX     618\n",
       "       ... \n",
       "GTF       1\n",
       "MEI       1\n",
       "STX       1\n",
       "RDD       1\n",
       "PSE       1\n",
       "Name: Origin, Length: 275, dtype: int64"
      ]
     },
     "execution_count": 144,
     "metadata": {},
     "output_type": "execute_result"
    }
   ],
   "source": [
    "df2['Origin'].value_counts()"
   ]
  },
  {
   "cell_type": "code",
   "execution_count": 145,
   "id": "6b37d9ae",
   "metadata": {},
   "outputs": [
    {
     "data": {
      "text/plain": [
       "ORD    1364\n",
       "ATL    1350\n",
       "DFW     999\n",
       "DEN     746\n",
       "LAX     618\n",
       "       ... \n",
       "BZN      11\n",
       "TVC      11\n",
       "BIL      11\n",
       "ACV      11\n",
       "MYR      11\n",
       "Name: Origin, Length: 145, dtype: int64"
      ]
     },
     "execution_count": 145,
     "metadata": {},
     "output_type": "execute_result"
    }
   ],
   "source": [
    "df3 = df2[df2['Origin'].map(df2['Origin'].value_counts()) > 10]\n",
    "df3['Origin'].value_counts()"
   ]
  },
  {
   "cell_type": "code",
   "execution_count": 146,
   "id": "99e59e5d",
   "metadata": {},
   "outputs": [],
   "source": [
    "df3 = df3[df3['Dest'].map(df3['Dest'].value_counts()) > 10]"
   ]
  },
  {
   "cell_type": "code",
   "execution_count": 147,
   "id": "71ed3c2a",
   "metadata": {},
   "outputs": [],
   "source": [
    "Origin_del = len(df2.groupby(df2['Origin'])) - len(df3.groupby(df3['Origin']))\n",
    "Dest_del = len(df2.groupby(df2['Dest'])) - len(df3.groupby(df3['Dest']))"
   ]
  },
  {
   "cell_type": "code",
   "execution_count": 148,
   "id": "30a32a36",
   "metadata": {},
   "outputs": [
    {
     "name": "stdout",
     "output_type": "stream",
     "text": [
      "By deleting Origin and Dest with less than 10 trips we avoid 253 additional dummy variables/columns in the model\n"
     ]
    }
   ],
   "source": [
    "print('By deleting Origin and Dest with less than 10 trips we avoid {} additional dummy variables/columns in the model'.format((Origin_del+Dest_del)))"
   ]
  },
  {
   "cell_type": "markdown",
   "id": "4afda1a4",
   "metadata": {},
   "source": [
    "To use categorical models we convert the discrete numerical variable by a categorical (0/1) variable.\n",
    "\n",
    "If a flight has been delayed (ArrDelay > 0) the ArrDelay will be 1 if not 0"
   ]
  },
  {
   "cell_type": "code",
   "execution_count": 149,
   "id": "2fac9c7d",
   "metadata": {},
   "outputs": [
    {
     "data": {
      "text/plain": [
       "array([1, 0], dtype=int64)"
      ]
     },
     "execution_count": 149,
     "metadata": {},
     "output_type": "execute_result"
    }
   ],
   "source": [
    "df3['ArrDelay'] = [1 if x > 0 else 0 for x in df3['ArrDelay']]\n",
    "df3['ArrDelay'].unique() # To check that all values have been converted correctly"
   ]
  },
  {
   "cell_type": "code",
   "execution_count": 150,
   "id": "fef62f38",
   "metadata": {},
   "outputs": [
    {
     "data": {
      "text/plain": [
       "1    14425\n",
       "0     4474\n",
       "Name: ArrDelay, dtype: int64"
      ]
     },
     "execution_count": 150,
     "metadata": {},
     "output_type": "execute_result"
    }
   ],
   "source": [
    "df3.ArrDelay.value_counts() #To check if the DF is unbalance, which is not."
   ]
  },
  {
   "cell_type": "code",
   "execution_count": 151,
   "id": "3f2d6308",
   "metadata": {},
   "outputs": [],
   "source": [
    "#convert all categorical variables/features in numerical\n",
    "df4 = pd.get_dummies(df3)"
   ]
  },
  {
   "cell_type": "markdown",
   "id": "b93d1862",
   "metadata": {},
   "source": [
    "We standarize the data frame."
   ]
  },
  {
   "cell_type": "code",
   "execution_count": 152,
   "id": "a44018ca",
   "metadata": {},
   "outputs": [],
   "source": [
    "from sklearn.preprocessing import StandardScaler\n",
    "\n",
    "ss = StandardScaler()\n",
    "df4[['Distance', 'DepDelay', 'TaxiIn', 'TaxiOut']] = ss.fit_transform(df4[['Distance', 'DepDelay', 'TaxiIn', 'TaxiOut']])\n"
   ]
  },
  {
   "cell_type": "code",
   "execution_count": 153,
   "id": "18758e70",
   "metadata": {},
   "outputs": [
    {
     "data": {
      "text/html": [
       "<div>\n",
       "<style scoped>\n",
       "    .dataframe tbody tr th:only-of-type {\n",
       "        vertical-align: middle;\n",
       "    }\n",
       "\n",
       "    .dataframe tbody tr th {\n",
       "        vertical-align: top;\n",
       "    }\n",
       "\n",
       "    .dataframe thead th {\n",
       "        text-align: right;\n",
       "    }\n",
       "</style>\n",
       "<table border=\"1\" class=\"dataframe\">\n",
       "  <thead>\n",
       "    <tr style=\"text-align: right;\">\n",
       "      <th></th>\n",
       "      <th>Year</th>\n",
       "      <th>Month</th>\n",
       "      <th>DayofMonth</th>\n",
       "      <th>DayOfWeek</th>\n",
       "      <th>DepTime</th>\n",
       "      <th>ArrTime</th>\n",
       "      <th>ActualElapsedTime</th>\n",
       "      <th>AirTime</th>\n",
       "      <th>ArrDelay</th>\n",
       "      <th>DepDelay</th>\n",
       "      <th>...</th>\n",
       "      <th>Dest_SWF</th>\n",
       "      <th>Dest_SYR</th>\n",
       "      <th>Dest_TLH</th>\n",
       "      <th>Dest_TPA</th>\n",
       "      <th>Dest_TUL</th>\n",
       "      <th>Dest_TUS</th>\n",
       "      <th>Dest_TVC</th>\n",
       "      <th>Dest_TYS</th>\n",
       "      <th>Dest_VPS</th>\n",
       "      <th>Dest_XNA</th>\n",
       "    </tr>\n",
       "  </thead>\n",
       "  <tbody>\n",
       "    <tr>\n",
       "      <th>0</th>\n",
       "      <td>2008</td>\n",
       "      <td>2</td>\n",
       "      <td>24</td>\n",
       "      <td>7</td>\n",
       "      <td>1350.0</td>\n",
       "      <td>1950.0</td>\n",
       "      <td>360.0</td>\n",
       "      <td>285.0</td>\n",
       "      <td>1</td>\n",
       "      <td>0.122268</td>\n",
       "      <td>...</td>\n",
       "      <td>0</td>\n",
       "      <td>0</td>\n",
       "      <td>0</td>\n",
       "      <td>0</td>\n",
       "      <td>0</td>\n",
       "      <td>0</td>\n",
       "      <td>0</td>\n",
       "      <td>0</td>\n",
       "      <td>0</td>\n",
       "      <td>0</td>\n",
       "    </tr>\n",
       "    <tr>\n",
       "      <th>2</th>\n",
       "      <td>2008</td>\n",
       "      <td>6</td>\n",
       "      <td>13</td>\n",
       "      <td>5</td>\n",
       "      <td>2.0</td>\n",
       "      <td>513.0</td>\n",
       "      <td>311.0</td>\n",
       "      <td>292.0</td>\n",
       "      <td>0</td>\n",
       "      <td>-0.024172</td>\n",
       "      <td>...</td>\n",
       "      <td>0</td>\n",
       "      <td>0</td>\n",
       "      <td>0</td>\n",
       "      <td>0</td>\n",
       "      <td>0</td>\n",
       "      <td>0</td>\n",
       "      <td>0</td>\n",
       "      <td>0</td>\n",
       "      <td>0</td>\n",
       "      <td>0</td>\n",
       "    </tr>\n",
       "    <tr>\n",
       "      <th>3</th>\n",
       "      <td>2008</td>\n",
       "      <td>5</td>\n",
       "      <td>21</td>\n",
       "      <td>3</td>\n",
       "      <td>2316.0</td>\n",
       "      <td>2448.0</td>\n",
       "      <td>92.0</td>\n",
       "      <td>77.0</td>\n",
       "      <td>1</td>\n",
       "      <td>0.616502</td>\n",
       "      <td>...</td>\n",
       "      <td>0</td>\n",
       "      <td>0</td>\n",
       "      <td>0</td>\n",
       "      <td>0</td>\n",
       "      <td>0</td>\n",
       "      <td>0</td>\n",
       "      <td>0</td>\n",
       "      <td>0</td>\n",
       "      <td>0</td>\n",
       "      <td>0</td>\n",
       "    </tr>\n",
       "    <tr>\n",
       "      <th>4</th>\n",
       "      <td>2008</td>\n",
       "      <td>12</td>\n",
       "      <td>5</td>\n",
       "      <td>5</td>\n",
       "      <td>951.0</td>\n",
       "      <td>1138.0</td>\n",
       "      <td>107.0</td>\n",
       "      <td>88.0</td>\n",
       "      <td>1</td>\n",
       "      <td>0.415147</td>\n",
       "      <td>...</td>\n",
       "      <td>0</td>\n",
       "      <td>0</td>\n",
       "      <td>0</td>\n",
       "      <td>0</td>\n",
       "      <td>0</td>\n",
       "      <td>0</td>\n",
       "      <td>0</td>\n",
       "      <td>0</td>\n",
       "      <td>0</td>\n",
       "      <td>0</td>\n",
       "    </tr>\n",
       "    <tr>\n",
       "      <th>5</th>\n",
       "      <td>2008</td>\n",
       "      <td>11</td>\n",
       "      <td>7</td>\n",
       "      <td>5</td>\n",
       "      <td>1812.0</td>\n",
       "      <td>2103.0</td>\n",
       "      <td>171.0</td>\n",
       "      <td>131.0</td>\n",
       "      <td>1</td>\n",
       "      <td>0.634807</td>\n",
       "      <td>...</td>\n",
       "      <td>0</td>\n",
       "      <td>0</td>\n",
       "      <td>0</td>\n",
       "      <td>0</td>\n",
       "      <td>0</td>\n",
       "      <td>0</td>\n",
       "      <td>0</td>\n",
       "      <td>0</td>\n",
       "      <td>0</td>\n",
       "      <td>0</td>\n",
       "    </tr>\n",
       "    <tr>\n",
       "      <th>...</th>\n",
       "      <td>...</td>\n",
       "      <td>...</td>\n",
       "      <td>...</td>\n",
       "      <td>...</td>\n",
       "      <td>...</td>\n",
       "      <td>...</td>\n",
       "      <td>...</td>\n",
       "      <td>...</td>\n",
       "      <td>...</td>\n",
       "      <td>...</td>\n",
       "      <td>...</td>\n",
       "      <td>...</td>\n",
       "      <td>...</td>\n",
       "      <td>...</td>\n",
       "      <td>...</td>\n",
       "      <td>...</td>\n",
       "      <td>...</td>\n",
       "      <td>...</td>\n",
       "      <td>...</td>\n",
       "      <td>...</td>\n",
       "      <td>...</td>\n",
       "    </tr>\n",
       "    <tr>\n",
       "      <th>19995</th>\n",
       "      <td>2008</td>\n",
       "      <td>1</td>\n",
       "      <td>3</td>\n",
       "      <td>4</td>\n",
       "      <td>1926.0</td>\n",
       "      <td>2438.0</td>\n",
       "      <td>312.0</td>\n",
       "      <td>294.0</td>\n",
       "      <td>1</td>\n",
       "      <td>0.049048</td>\n",
       "      <td>...</td>\n",
       "      <td>0</td>\n",
       "      <td>0</td>\n",
       "      <td>0</td>\n",
       "      <td>0</td>\n",
       "      <td>0</td>\n",
       "      <td>0</td>\n",
       "      <td>0</td>\n",
       "      <td>0</td>\n",
       "      <td>0</td>\n",
       "      <td>0</td>\n",
       "    </tr>\n",
       "    <tr>\n",
       "      <th>19996</th>\n",
       "      <td>2008</td>\n",
       "      <td>1</td>\n",
       "      <td>2</td>\n",
       "      <td>3</td>\n",
       "      <td>1710.0</td>\n",
       "      <td>1926.0</td>\n",
       "      <td>136.0</td>\n",
       "      <td>107.0</td>\n",
       "      <td>0</td>\n",
       "      <td>-0.060781</td>\n",
       "      <td>...</td>\n",
       "      <td>0</td>\n",
       "      <td>0</td>\n",
       "      <td>0</td>\n",
       "      <td>0</td>\n",
       "      <td>0</td>\n",
       "      <td>0</td>\n",
       "      <td>0</td>\n",
       "      <td>0</td>\n",
       "      <td>0</td>\n",
       "      <td>0</td>\n",
       "    </tr>\n",
       "    <tr>\n",
       "      <th>19997</th>\n",
       "      <td>2008</td>\n",
       "      <td>7</td>\n",
       "      <td>20</td>\n",
       "      <td>7</td>\n",
       "      <td>1139.0</td>\n",
       "      <td>1233.0</td>\n",
       "      <td>54.0</td>\n",
       "      <td>30.0</td>\n",
       "      <td>0</td>\n",
       "      <td>-0.445186</td>\n",
       "      <td>...</td>\n",
       "      <td>0</td>\n",
       "      <td>0</td>\n",
       "      <td>0</td>\n",
       "      <td>0</td>\n",
       "      <td>0</td>\n",
       "      <td>0</td>\n",
       "      <td>0</td>\n",
       "      <td>0</td>\n",
       "      <td>0</td>\n",
       "      <td>0</td>\n",
       "    </tr>\n",
       "    <tr>\n",
       "      <th>19998</th>\n",
       "      <td>2008</td>\n",
       "      <td>2</td>\n",
       "      <td>15</td>\n",
       "      <td>5</td>\n",
       "      <td>711.0</td>\n",
       "      <td>1014.0</td>\n",
       "      <td>183.0</td>\n",
       "      <td>163.0</td>\n",
       "      <td>0</td>\n",
       "      <td>-0.683150</td>\n",
       "      <td>...</td>\n",
       "      <td>0</td>\n",
       "      <td>0</td>\n",
       "      <td>0</td>\n",
       "      <td>0</td>\n",
       "      <td>0</td>\n",
       "      <td>0</td>\n",
       "      <td>0</td>\n",
       "      <td>0</td>\n",
       "      <td>0</td>\n",
       "      <td>0</td>\n",
       "    </tr>\n",
       "    <tr>\n",
       "      <th>19999</th>\n",
       "      <td>2008</td>\n",
       "      <td>4</td>\n",
       "      <td>10</td>\n",
       "      <td>4</td>\n",
       "      <td>1530.0</td>\n",
       "      <td>1716.0</td>\n",
       "      <td>106.0</td>\n",
       "      <td>59.0</td>\n",
       "      <td>1</td>\n",
       "      <td>0.305318</td>\n",
       "      <td>...</td>\n",
       "      <td>0</td>\n",
       "      <td>0</td>\n",
       "      <td>0</td>\n",
       "      <td>0</td>\n",
       "      <td>0</td>\n",
       "      <td>0</td>\n",
       "      <td>0</td>\n",
       "      <td>0</td>\n",
       "      <td>0</td>\n",
       "      <td>0</td>\n",
       "    </tr>\n",
       "  </tbody>\n",
       "</table>\n",
       "<p>18899 rows × 333 columns</p>\n",
       "</div>"
      ],
      "text/plain": [
       "       Year  Month  DayofMonth  DayOfWeek  DepTime  ArrTime  \\\n",
       "0      2008      2          24          7   1350.0   1950.0   \n",
       "2      2008      6          13          5      2.0    513.0   \n",
       "3      2008      5          21          3   2316.0   2448.0   \n",
       "4      2008     12           5          5    951.0   1138.0   \n",
       "5      2008     11           7          5   1812.0   2103.0   \n",
       "...     ...    ...         ...        ...      ...      ...   \n",
       "19995  2008      1           3          4   1926.0   2438.0   \n",
       "19996  2008      1           2          3   1710.0   1926.0   \n",
       "19997  2008      7          20          7   1139.0   1233.0   \n",
       "19998  2008      2          15          5    711.0   1014.0   \n",
       "19999  2008      4          10          4   1530.0   1716.0   \n",
       "\n",
       "       ActualElapsedTime  AirTime  ArrDelay  DepDelay  ...  Dest_SWF  \\\n",
       "0                  360.0    285.0         1  0.122268  ...         0   \n",
       "2                  311.0    292.0         0 -0.024172  ...         0   \n",
       "3                   92.0     77.0         1  0.616502  ...         0   \n",
       "4                  107.0     88.0         1  0.415147  ...         0   \n",
       "5                  171.0    131.0         1  0.634807  ...         0   \n",
       "...                  ...      ...       ...       ...  ...       ...   \n",
       "19995              312.0    294.0         1  0.049048  ...         0   \n",
       "19996              136.0    107.0         0 -0.060781  ...         0   \n",
       "19997               54.0     30.0         0 -0.445186  ...         0   \n",
       "19998              183.0    163.0         0 -0.683150  ...         0   \n",
       "19999              106.0     59.0         1  0.305318  ...         0   \n",
       "\n",
       "       Dest_SYR  Dest_TLH  Dest_TPA  Dest_TUL  Dest_TUS  Dest_TVC  Dest_TYS  \\\n",
       "0             0         0         0         0         0         0         0   \n",
       "2             0         0         0         0         0         0         0   \n",
       "3             0         0         0         0         0         0         0   \n",
       "4             0         0         0         0         0         0         0   \n",
       "5             0         0         0         0         0         0         0   \n",
       "...         ...       ...       ...       ...       ...       ...       ...   \n",
       "19995         0         0         0         0         0         0         0   \n",
       "19996         0         0         0         0         0         0         0   \n",
       "19997         0         0         0         0         0         0         0   \n",
       "19998         0         0         0         0         0         0         0   \n",
       "19999         0         0         0         0         0         0         0   \n",
       "\n",
       "       Dest_VPS  Dest_XNA  \n",
       "0             0         0  \n",
       "2             0         0  \n",
       "3             0         0  \n",
       "4             0         0  \n",
       "5             0         0  \n",
       "...         ...       ...  \n",
       "19995         0         0  \n",
       "19996         0         0  \n",
       "19997         0         0  \n",
       "19998         0         0  \n",
       "19999         0         0  \n",
       "\n",
       "[18899 rows x 333 columns]"
      ]
     },
     "execution_count": 153,
     "metadata": {},
     "output_type": "execute_result"
    }
   ],
   "source": [
    "df4"
   ]
  },
  {
   "cell_type": "code",
   "execution_count": 154,
   "id": "478faa20",
   "metadata": {},
   "outputs": [],
   "source": [
    "df4.to_csv('DelayFlightsClassificacio.csv', index=False)"
   ]
  },
  {
   "cell_type": "markdown",
   "id": "db12d0e5",
   "metadata": {},
   "source": [
    "## Functions definition"
   ]
  },
  {
   "cell_type": "code",
   "execution_count": 155,
   "id": "584d029c",
   "metadata": {},
   "outputs": [],
   "source": [
    "df_metrics = pd.DataFrame()"
   ]
  },
  {
   "cell_type": "code",
   "execution_count": 156,
   "id": "c7829934",
   "metadata": {},
   "outputs": [],
   "source": [
    "def Train_Test (df):\n",
    "    global X, y, X_train, X_test, y_train, y_test\n",
    "    #The target variable is ArrDelay \n",
    "    X = df.drop(['ArrDelay'], axis=1).values\n",
    "    y = df.ArrDelay.values\n",
    "\n",
    "    X_train, X_test, y_train, y_test = train_test_split(X, y, test_size=0.25, random_state=1)\n",
    "    print('X Train shape: ', X_train.shape)\n",
    "    print('X Test shape: ', X_test.shape)\n",
    "    print('y Train shape: ', y_train.shape)\n",
    "    print('y Test shape: ', y_test.shape)\n"
   ]
  },
  {
   "cell_type": "code",
   "execution_count": 157,
   "id": "739dfb6b",
   "metadata": {},
   "outputs": [],
   "source": [
    "def KNN (X_train, X_test, y_train, y_test, model_short):\n",
    "    error = []\n",
    "   \n",
    "    # Calculating error for K values between 1 and 30\n",
    "    print('First we need to select the number of neighbors that we will use in the model /n Therefore we calculate the mean error against the number of neightbors')\n",
    "    for i in range(1, 30):\n",
    "        knn = KNeighborsClassifier(n_neighbors=i)\n",
    "        knn.fit(X_train, y_train)\n",
    "        pred_i = knn.predict(X_test)\n",
    "        error.append(np.mean(pred_i != y_test))\n",
    "                \n",
    "    # Error Rate K value Graph\n",
    "    plt.figure(figsize=(12, 6))\n",
    "    plt.plot(range(1, 30), error, color='red', linestyle='dashed', marker='o',\n",
    "             markerfacecolor='blue', markersize=10)\n",
    "    plt.title('Error Rate K Value')\n",
    "    plt.xlabel('K Value')\n",
    "    plt.ylabel('Mean Error');\n",
    "    \n",
    "    # Find acceptable number of neighbors. Number has to be even to avoid a draw.\n",
    "    for i in range(1, 30):\n",
    "        if i > 3:\n",
    "            perc_diff_error = ((np.abs(error[i] - error[(i-2)]))/error[i]*100)\n",
    "            if perc_diff_error <  1: # If the error improve less than 1% it select the next even num neighbors\n",
    "                if i % 2: \n",
    "                    n_neigh = i \n",
    "                else:\n",
    "                    n_neigh = i + 1\n",
    "                break\n",
    "  \n",
    "    # Fit into the model\n",
    "    print ('I decide that when the mean error improve less than 1% that will indicate the of neighbors required = ', n_neigh)\n",
    "    global classifier, y_pred, y_pred_prob\n",
    "    classifier = KNeighborsClassifier(n_neighbors=n_neigh)\n",
    "    classifier.fit(X_train, y_train)\n",
    "\n",
    "    y_pred = classifier.predict(X_test)\n",
    "    \n",
    "    y_pred_prob = classifier.predict_proba(X_test)[::,1]\n",
    "    \n",
    "    # Confusion Matrix\n",
    "    CnfMatrix (model_short, y_test, y_pred)\n",
    "    \n"
   ]
  },
  {
   "cell_type": "code",
   "execution_count": 158,
   "id": "ebf782b0",
   "metadata": {},
   "outputs": [],
   "source": [
    "def LR (X_train, X_test, y_train, y_test, model_short):\n",
    "    \n",
    "    # instantiate the model (using the default parameters)\n",
    "    logreg = LogisticRegression(solver='newton-cg')\n",
    "\n",
    "    # fit the model with data\n",
    "    logreg.fit(X_train,y_train)\n",
    "\n",
    "    y_pred=logreg.predict(X_test)\n",
    "    \n",
    "    y_pred_prob = logreg.predict_proba(X_test)[::,1]\n",
    "    \n",
    "    CnfMatrix (model_short, y_test, y_pred)"
   ]
  },
  {
   "cell_type": "code",
   "execution_count": 159,
   "id": "593429e7",
   "metadata": {},
   "outputs": [],
   "source": [
    "def SVM (X_train, X_test, y_train, y_test, model_short):\n",
    "    #Create a svm Classifier\n",
    "    clf = svm.SVC(kernel='linear') # Linear Kernel\n",
    "\n",
    "    #Train the model using the training sets\n",
    "    clf.fit(X_train, y_train)\n",
    "\n",
    "    #Predict the response for test dataset\n",
    "    y_pred = clf.predict(X_test)\n",
    "\n",
    "    CnfMatrix (model_short, y_test, y_pred)"
   ]
  },
  {
   "cell_type": "code",
   "execution_count": 160,
   "id": "daac38a5",
   "metadata": {},
   "outputs": [],
   "source": [
    "def CnfMatrix (model, y_test, y_pred):\n",
    "    cnf_matrix = metrics.confusion_matrix(y_test, y_pred)\n",
    "    print(\"Accuracy:\",metrics.accuracy_score(y_test, y_pred))\n",
    "    print(\"Precision:\",metrics.precision_score(y_test, y_pred))\n",
    "    print(\"Recall:\",metrics.recall_score(y_test, y_pred))\n",
    "    print(\"F1:\",metrics.f1_score(y_test, y_pred))\n",
    "    print('AUC:', metrics.roc_auc_score(y_test, y_pred_prob))\n",
    "    \n",
    "    Accuracy = metrics.accuracy_score(y_test, y_pred)\n",
    "    Precision = metrics.precision_score(y_test, y_pred)\n",
    "    Recall = metrics.recall_score(y_test, y_pred)\n",
    "    F1 = metrics.f1_score(y_test, y_pred)\n",
    "    # AUC is the percentage of the ROC plot that is underneath the curve:\n",
    "    # IMPORTANT: first argument is true values, second argument is predicted probabilities\n",
    "    AUC = metrics.roc_auc_score(y_test, y_pred_prob)\n",
    "    \n",
    "    metric = pd.DataFrame([{'Accuracy': Accuracy, 'Precision': Precision, 'Recall': Recall, 'F1': F1, 'AUC': AUC}], index = [model])\n",
    "    \n",
    "    global df_metrics\n",
    "    df_metrics = df_metrics.append(metric)\n",
    "    df_metrics\n",
    "    \n",
    "    fig, ax = plt.subplots()\n",
    "    sns.heatmap(pd.DataFrame(cnf_matrix), annot=True, cmap=\"YlGnBu\" ,fmt='g')\n",
    "    ax.xaxis.set_label_position(\"top\")\n",
    "    plt.tight_layout()\n",
    "    plt.title('Confusion matrix', y=1.1)\n",
    "    plt.ylabel('Actual label')\n",
    "    plt.xlabel('Predicted label');"
   ]
  },
  {
   "cell_type": "code",
   "execution_count": 161,
   "id": "0d997dc8",
   "metadata": {},
   "outputs": [],
   "source": [
    "def RocCurve (y_test, y_pred_prob):\n",
    "    # IMPORTANT: first argument is true values, second argument is predicted probabilities\n",
    "\n",
    "    # we pass y_test and y_pred_prob\n",
    "    # we do not use y_pred_class, because it will give incorrect results without generating an error\n",
    "    # roc_curve returns 3 objects fpr, tpr, thresholds\n",
    "    # fpr: false positive rate\n",
    "    # tpr: true positive rate\n",
    "    fpr, tpr, thresholds = metrics.roc_curve(y_test, y_pred_prob)\n",
    "\n",
    "    plt.plot(fpr, tpr)\n",
    "    plt.xlim([0.0, 1.0])\n",
    "    plt.ylim([0.0, 1.0])\n",
    "    plt.rcParams['font.size'] = 12\n",
    "    plt.title('ROC curve')\n",
    "    plt.xlabel('False Positive Rate (1 - Specificity)')\n",
    "    plt.ylabel('True Positive Rate (Sensitivity)')\n",
    "    plt.grid(True)\n"
   ]
  },
  {
   "cell_type": "markdown",
   "id": "03ae34df",
   "metadata": {},
   "source": [
    "We split the data into train and test, to split the data and have unused data to test the models."
   ]
  },
  {
   "cell_type": "code",
   "execution_count": 162,
   "id": "2e3a39ca",
   "metadata": {},
   "outputs": [
    {
     "name": "stdout",
     "output_type": "stream",
     "text": [
      "X Train shape:  (14174, 332)\n",
      "X Test shape:  (4725, 332)\n",
      "y Train shape:  (14174,)\n",
      "y Test shape:  (4725,)\n"
     ]
    }
   ],
   "source": [
    "#The target variable is ArrDelay \n",
    "Train_Test (df4)"
   ]
  },
  {
   "cell_type": "markdown",
   "id": "f7672d10",
   "metadata": {},
   "source": [
    "### K-Nearest Neighbors Algorithmm (KNN)"
   ]
  },
  {
   "cell_type": "code",
   "execution_count": 163,
   "id": "384b1dd4",
   "metadata": {},
   "outputs": [],
   "source": [
    "from sklearn.neighbors import KNeighborsClassifier\n",
    "from sklearn.metrics import classification_report, confusion_matrix"
   ]
  },
  {
   "cell_type": "code",
   "execution_count": 164,
   "id": "d40dccef",
   "metadata": {},
   "outputs": [
    {
     "name": "stdout",
     "output_type": "stream",
     "text": [
      "First we need to select the number of neighbors that we will use in the model /n Therefore we calculate the mean error against the number of neightbors\n",
      "I decide that when the mean error improve less than 1% that will indicate the of neighbors required =  15\n",
      "Accuracy: 0.7663492063492063\n",
      "Precision: 0.789279112754159\n",
      "Recall: 0.9467849223946785\n",
      "F1: 0.8608870967741935\n",
      "AUC: 0.6835692393507316\n"
     ]
    },
    {
     "data": {
      "image/png": "[encoded data removed]",
      "text/plain": [
       "<Figure size 864x432 with 1 Axes>"
      ]
     },
     "metadata": {
      "needs_background": "light"
     },
     "output_type": "display_data"
    },
    {
     "data": {
      "image/png": "[encoded data removed]",
      "text/plain": [
       "<Figure size 432x288 with 2 Axes>"
      ]
     },
     "metadata": {
      "needs_background": "light"
     },
     "output_type": "display_data"
    }
   ],
   "source": [
    "KNN (X_train, X_test, y_train, y_test,'KNN')"
   ]
  },
  {
   "cell_type": "code",
   "execution_count": 165,
   "id": "0d3f4e6e",
   "metadata": {},
   "outputs": [
    {
     "data": {
      "image/png": "[encoded data removed]",
      "text/plain": [
       "<Figure size 432x288 with 1 Axes>"
      ]
     },
     "metadata": {
      "needs_background": "light"
     },
     "output_type": "display_data"
    }
   ],
   "source": [
    "#ROC Curve\n",
    "RocCurve (y_test, y_pred_prob)"
   ]
  },
  {
   "cell_type": "markdown",
   "id": "e1344ba2",
   "metadata": {},
   "source": [
    "## Logistic Regression (LR)"
   ]
  },
  {
   "cell_type": "code",
   "execution_count": 166,
   "id": "1de8f707",
   "metadata": {},
   "outputs": [],
   "source": [
    "from sklearn.linear_model import LogisticRegression"
   ]
  },
  {
   "cell_type": "code",
   "execution_count": 167,
   "id": "5caea084",
   "metadata": {},
   "outputs": [
    {
     "name": "stdout",
     "output_type": "stream",
     "text": [
      "Accuracy: 0.8950264550264551\n",
      "Precision: 0.9081846799580273\n",
      "Recall: 0.9595343680709535\n",
      "F1: 0.9331536388140163\n",
      "AUC: 0.6835692393507316\n"
     ]
    },
    {
     "data": {
      "image/png": "[encoded data removed]",
      "text/plain": [
       "<Figure size 432x288 with 2 Axes>"
      ]
     },
     "metadata": {
      "needs_background": "light"
     },
     "output_type": "display_data"
    }
   ],
   "source": [
    "LR (X_train, X_test, y_train, y_test,'LR')"
   ]
  },
  {
   "cell_type": "code",
   "execution_count": 168,
   "id": "651b64ed",
   "metadata": {},
   "outputs": [
    {
     "data": {
      "image/png": "[encoded data removed]",
      "text/plain": [
       "<Figure size 432x288 with 1 Axes>"
      ]
     },
     "metadata": {
      "needs_background": "light"
     },
     "output_type": "display_data"
    }
   ],
   "source": [
    "RocCurve (y_test, y_pred_prob)"
   ]
  },
  {
   "cell_type": "markdown",
   "id": "0c29b949",
   "metadata": {},
   "source": [
    "## Support Vector Machines (SVM)"
   ]
  },
  {
   "cell_type": "code",
   "execution_count": 169,
   "id": "8d9d6573",
   "metadata": {},
   "outputs": [],
   "source": [
    "from sklearn import svm"
   ]
  },
  {
   "cell_type": "code",
   "execution_count": 170,
   "id": "ddaab844",
   "metadata": {},
   "outputs": [
    {
     "name": "stdout",
     "output_type": "stream",
     "text": [
      "Accuracy: 0.8302645502645503\n",
      "Precision: 0.8388888888888889\n",
      "Recall: 0.9625831485587583\n",
      "F1: 0.8964894166236448\n",
      "AUC: 0.6835692393507316\n"
     ]
    },
    {
     "data": {
      "image/png": "[encoded data removed]",
      "text/plain": [
       "<Figure size 432x288 with 2 Axes>"
      ]
     },
     "metadata": {
      "needs_background": "light"
     },
     "output_type": "display_data"
    }
   ],
   "source": [
    "SVM (X_train, X_test, y_train, y_test,'SVM')"
   ]
  },
  {
   "cell_type": "markdown",
   "id": "329d0652",
   "metadata": {},
   "source": [
    "## XGBoost"
   ]
  },
  {
   "cell_type": "code",
   "execution_count": 171,
   "id": "5e3a767c",
   "metadata": {},
   "outputs": [],
   "source": [
    "# !pip install xgboost"
   ]
  },
  {
   "cell_type": "code",
   "execution_count": 172,
   "id": "f3dd6072",
   "metadata": {},
   "outputs": [],
   "source": [
    "import xgboost as xgb\n",
    "from sklearn.metrics import mean_squared_error\n",
    "\n",
    "xg_reg = xgb.XGBRegressor(objective ='reg:linear', colsample_bytree = 0.3, learning_rate = 0.1,\n",
    "                max_depth = 5, alpha = 10, n_estimators = 10)"
   ]
  },
  {
   "cell_type": "code",
   "execution_count": 173,
   "id": "319b537c",
   "metadata": {},
   "outputs": [
    {
     "name": "stdout",
     "output_type": "stream",
     "text": [
      "[22:15:15] WARNING: C:/Users/Administrator/workspace/xgboost-win64_release_1.5.1/src/objective/regression_obj.cu:188: reg:linear is now deprecated in favor of reg:squarederror.\n",
      "Accuracy: 0.7663492063492063\n",
      "Precision: 0.789279112754159\n",
      "Recall: 0.9467849223946785\n",
      "F1: 0.8608870967741935\n",
      "AUC: 0.6835692393507316\n"
     ]
    },
    {
     "data": {
      "image/png": "[encoded data removed]",
      "text/plain": [
       "<Figure size 432x288 with 2 Axes>"
      ]
     },
     "metadata": {
      "needs_background": "light"
     },
     "output_type": "display_data"
    }
   ],
   "source": [
    "xg_reg.fit(X_train,y_train)\n",
    "\n",
    "preds = xg_reg.predict(X_test)\n",
    "\n",
    "CnfMatrix ('XGBoost', y_test, y_pred)"
   ]
  },
  {
   "cell_type": "code",
   "execution_count": 174,
   "id": "cbce4750",
   "metadata": {},
   "outputs": [
    {
     "name": "stdout",
     "output_type": "stream",
     "text": [
      "RMSE: 0.403421\n"
     ]
    }
   ],
   "source": [
    "rmse = np.sqrt(mean_squared_error(y_test, preds))\n",
    "print(\"RMSE: %f\" % (rmse))"
   ]
  },
  {
   "cell_type": "code",
   "execution_count": 175,
   "id": "ea6bbd7d",
   "metadata": {},
   "outputs": [
    {
     "name": "stdout",
     "output_type": "stream",
     "text": [
      "[22:15:16] WARNING: C:/Users/Administrator/workspace/xgboost-win64_release_1.5.1/src/objective/regression_obj.cu:188: reg:linear is now deprecated in favor of reg:squarederror.\n",
      "[22:15:16] WARNING: C:/Users/Administrator/workspace/xgboost-win64_release_1.5.1/src/objective/regression_obj.cu:188: reg:linear is now deprecated in favor of reg:squarederror.\n",
      "[22:15:16] WARNING: C:/Users/Administrator/workspace/xgboost-win64_release_1.5.1/src/objective/regression_obj.cu:188: reg:linear is now deprecated in favor of reg:squarederror.\n"
     ]
    },
    {
     "data": {
      "text/html": [
       "<div>\n",
       "<style scoped>\n",
       "    .dataframe tbody tr th:only-of-type {\n",
       "        vertical-align: middle;\n",
       "    }\n",
       "\n",
       "    .dataframe tbody tr th {\n",
       "        vertical-align: top;\n",
       "    }\n",
       "\n",
       "    .dataframe thead th {\n",
       "        text-align: right;\n",
       "    }\n",
       "</style>\n",
       "<table border=\"1\" class=\"dataframe\">\n",
       "  <thead>\n",
       "    <tr style=\"text-align: right;\">\n",
       "      <th></th>\n",
       "      <th>train-rmse-mean</th>\n",
       "      <th>train-rmse-std</th>\n",
       "      <th>test-rmse-mean</th>\n",
       "      <th>test-rmse-std</th>\n",
       "    </tr>\n",
       "  </thead>\n",
       "  <tbody>\n",
       "    <tr>\n",
       "      <th>0</th>\n",
       "      <td>0.483898</td>\n",
       "      <td>0.000111</td>\n",
       "      <td>0.484048</td>\n",
       "      <td>0.000111</td>\n",
       "    </tr>\n",
       "    <tr>\n",
       "      <th>1</th>\n",
       "      <td>0.467481</td>\n",
       "      <td>0.001448</td>\n",
       "      <td>0.467926</td>\n",
       "      <td>0.001580</td>\n",
       "    </tr>\n",
       "    <tr>\n",
       "      <th>2</th>\n",
       "      <td>0.455362</td>\n",
       "      <td>0.002586</td>\n",
       "      <td>0.455965</td>\n",
       "      <td>0.002707</td>\n",
       "    </tr>\n",
       "    <tr>\n",
       "      <th>3</th>\n",
       "      <td>0.444889</td>\n",
       "      <td>0.002979</td>\n",
       "      <td>0.445630</td>\n",
       "      <td>0.003144</td>\n",
       "    </tr>\n",
       "    <tr>\n",
       "      <th>4</th>\n",
       "      <td>0.435967</td>\n",
       "      <td>0.002368</td>\n",
       "      <td>0.436953</td>\n",
       "      <td>0.002821</td>\n",
       "    </tr>\n",
       "  </tbody>\n",
       "</table>\n",
       "</div>"
      ],
      "text/plain": [
       "   train-rmse-mean  train-rmse-std  test-rmse-mean  test-rmse-std\n",
       "0         0.483898        0.000111        0.484048       0.000111\n",
       "1         0.467481        0.001448        0.467926       0.001580\n",
       "2         0.455362        0.002586        0.455965       0.002707\n",
       "3         0.444889        0.002979        0.445630       0.003144\n",
       "4         0.435967        0.002368        0.436953       0.002821"
      ]
     },
     "execution_count": 175,
     "metadata": {},
     "output_type": "execute_result"
    }
   ],
   "source": [
    "params = {\"objective\":\"reg:linear\",'colsample_bytree': 0.3,'learning_rate': 0.1,\n",
    "                'max_depth': 5, 'alpha': 10}\n",
    "\n",
    "data_dmatrix = xgb.DMatrix(data=X,label=y)\n",
    "cv_results = xgb.cv(dtrain=data_dmatrix, params=params, nfold=3,\n",
    "                    num_boost_round=50,early_stopping_rounds=10,metrics=\"rmse\", as_pandas=True, seed=123)\n",
    "\n",
    "cv_results.head()"
   ]
  },
  {
   "cell_type": "code",
   "execution_count": 176,
   "id": "e75b379a",
   "metadata": {},
   "outputs": [
    {
     "name": "stdout",
     "output_type": "stream",
     "text": [
      "[22:15:19] WARNING: C:/Users/Administrator/workspace/xgboost-win64_release_1.5.1/src/objective/regression_obj.cu:188: reg:linear is now deprecated in favor of reg:squarederror.\n"
     ]
    }
   ],
   "source": [
    "xg_reg = xgb.train(params=params, dtrain=data_dmatrix, num_boost_round=10)"
   ]
  },
  {
   "cell_type": "markdown",
   "id": "8c37ac18",
   "metadata": {},
   "source": [
    "## Exercise 2:\n",
    "\n",
    "Compare classification models using accuracy, a confidence matrix, and other more advanced metrics."
   ]
  },
  {
   "cell_type": "markdown",
   "id": "64489feb",
   "metadata": {},
   "source": [
    "The summary of the metrics used above are the following. ROC Curves and AUC values shown in the above exercise where possible."
   ]
  },
  {
   "cell_type": "code",
   "execution_count": 177,
   "id": "a35ed8a8",
   "metadata": {},
   "outputs": [
    {
     "data": {
      "text/html": [
       "<div>\n",
       "<style scoped>\n",
       "    .dataframe tbody tr th:only-of-type {\n",
       "        vertical-align: middle;\n",
       "    }\n",
       "\n",
       "    .dataframe tbody tr th {\n",
       "        vertical-align: top;\n",
       "    }\n",
       "\n",
       "    .dataframe thead th {\n",
       "        text-align: right;\n",
       "    }\n",
       "</style>\n",
       "<table border=\"1\" class=\"dataframe\">\n",
       "  <thead>\n",
       "    <tr style=\"text-align: right;\">\n",
       "      <th></th>\n",
       "      <th>Accuracy</th>\n",
       "      <th>Precision</th>\n",
       "      <th>Recall</th>\n",
       "      <th>F1</th>\n",
       "      <th>AUC</th>\n",
       "    </tr>\n",
       "  </thead>\n",
       "  <tbody>\n",
       "    <tr>\n",
       "      <th>KNN</th>\n",
       "      <td>0.766349</td>\n",
       "      <td>0.789279</td>\n",
       "      <td>0.946785</td>\n",
       "      <td>0.860887</td>\n",
       "      <td>0.683569</td>\n",
       "    </tr>\n",
       "    <tr>\n",
       "      <th>LR</th>\n",
       "      <td>0.895026</td>\n",
       "      <td>0.908185</td>\n",
       "      <td>0.959534</td>\n",
       "      <td>0.933154</td>\n",
       "      <td>0.683569</td>\n",
       "    </tr>\n",
       "    <tr>\n",
       "      <th>SVM</th>\n",
       "      <td>0.830265</td>\n",
       "      <td>0.838889</td>\n",
       "      <td>0.962583</td>\n",
       "      <td>0.896489</td>\n",
       "      <td>0.683569</td>\n",
       "    </tr>\n",
       "    <tr>\n",
       "      <th>XGBoost</th>\n",
       "      <td>0.766349</td>\n",
       "      <td>0.789279</td>\n",
       "      <td>0.946785</td>\n",
       "      <td>0.860887</td>\n",
       "      <td>0.683569</td>\n",
       "    </tr>\n",
       "  </tbody>\n",
       "</table>\n",
       "</div>"
      ],
      "text/plain": [
       "         Accuracy  Precision    Recall        F1       AUC\n",
       "KNN      0.766349   0.789279  0.946785  0.860887  0.683569\n",
       "LR       0.895026   0.908185  0.959534  0.933154  0.683569\n",
       "SVM      0.830265   0.838889  0.962583  0.896489  0.683569\n",
       "XGBoost  0.766349   0.789279  0.946785  0.860887  0.683569"
      ]
     },
     "execution_count": 177,
     "metadata": {},
     "output_type": "execute_result"
    }
   ],
   "source": [
    "df_metrics"
   ]
  },
  {
   "cell_type": "markdown",
   "id": "5c777d5e",
   "metadata": {},
   "source": [
    "## Exercise 3:\n",
    "\n",
    "Train them using the different parameters they support."
   ]
  },
  {
   "cell_type": "markdown",
   "id": "16bb8014",
   "metadata": {},
   "source": [
    "### K-Nearest Neighbors Algorithmm (KNN)"
   ]
  },
  {
   "cell_type": "code",
   "execution_count": 178,
   "id": "313d168e",
   "metadata": {},
   "outputs": [
    {
     "name": "stdout",
     "output_type": "stream",
     "text": [
      "Accuracy: 0.7606349206349207\n",
      "Precision: 0.7932749230404925\n",
      "Recall: 0.9284922394678492\n",
      "F1: 0.8555740007661856\n",
      "AUC: 0.6761871063408282\n"
     ]
    },
    {
     "data": {
      "image/png": "[encoded data removed]",
      "text/plain": [
       "<Figure size 432x288 with 2 Axes>"
      ]
     },
     "metadata": {
      "needs_background": "light"
     },
     "output_type": "display_data"
    }
   ],
   "source": [
    "#We try different parameters. Less neightbors that the 'optimal' but more leafs\n",
    "classifier = KNeighborsClassifier(n_neighbors=10, weights='distance', leaf_size=45, n_jobs=-1)\n",
    "classifier.fit(X_train, y_train)\n",
    "\n",
    "y_pred = classifier.predict(X_test)\n",
    "    \n",
    "y_pred_prob = classifier.predict_proba(X_test)[::,1]\n",
    "    \n",
    "# Confusion Matrix\n",
    "CnfMatrix ('KNN_Param1', y_test, y_pred)"
   ]
  },
  {
   "cell_type": "markdown",
   "id": "427702e2",
   "metadata": {},
   "source": [
    "### Support Vector Machines (SVM)"
   ]
  },
  {
   "cell_type": "code",
   "execution_count": 179,
   "id": "396175f6",
   "metadata": {},
   "outputs": [
    {
     "name": "stdout",
     "output_type": "stream",
     "text": [
      "Accuracy: 0.7635978835978836\n",
      "Precision: 0.7635978835978836\n",
      "Recall: 1.0\n",
      "F1: 0.8659546381855274\n",
      "AUC: 0.6761871063408282\n"
     ]
    },
    {
     "data": {
      "image/png": "[encoded data removed]",
      "text/plain": [
       "<Figure size 432x288 with 2 Axes>"
      ]
     },
     "metadata": {
      "needs_background": "light"
     },
     "output_type": "display_data"
    }
   ],
   "source": [
    "# In this case we modify the kernel to see how it affects the performance of the model\n",
    "clf = svm.SVC(kernel='rbf')\n",
    "\n",
    "#Train the model using the training sets\n",
    "clf.fit(X_train, y_train)\n",
    "\n",
    "#Predict the response for test dataset\n",
    "y_pred = clf.predict(X_test)\n",
    "\n",
    "CnfMatrix ('SVM_Param1', y_test, y_pred)"
   ]
  },
  {
   "cell_type": "markdown",
   "id": "57762824",
   "metadata": {},
   "source": [
    "## Exercise 4:\n",
    "\n",
    "Compare your performance using the traint / test or cross-validation approach."
   ]
  },
  {
   "cell_type": "markdown",
   "id": "4e5860c8",
   "metadata": {},
   "source": [
    "As we have used the train-test already on Exercise 1, we all the sample. We will also run K-fold cross validation using KNN model"
   ]
  },
  {
   "cell_type": "markdown",
   "id": "28792cd8",
   "metadata": {},
   "source": [
    "## Logistic Regression (LR)"
   ]
  },
  {
   "cell_type": "code",
   "execution_count": 180,
   "id": "e132f961",
   "metadata": {},
   "outputs": [
    {
     "name": "stdout",
     "output_type": "stream",
     "text": [
      "Accuracy: 0.9054447325255305\n",
      "Precision: 0.9152319621500854\n",
      "Recall: 0.9655459272097053\n",
      "F1: 0.9397159531761292\n",
      "AUC: 0.9432259099174201\n"
     ]
    },
    {
     "data": {
      "image/png": "[encoded data removed]",
      "text/plain": [
       "<Figure size 432x288 with 2 Axes>"
      ]
     },
     "metadata": {
      "needs_background": "light"
     },
     "output_type": "display_data"
    }
   ],
   "source": [
    "# instantiate the model (using the default parameters)\n",
    "logreg = LogisticRegression(solver='newton-cg')\n",
    "\n",
    "# fit the model with data\n",
    "logreg.fit(X,y)\n",
    "\n",
    "y_pred=logreg.predict(X)\n",
    "    \n",
    "y_pred_prob = logreg.predict_proba(X)[::,1]\n",
    "    \n",
    "CnfMatrix ('LR_no_train_test', y, y_pred)"
   ]
  },
  {
   "cell_type": "markdown",
   "id": "649deff8",
   "metadata": {},
   "source": [
    "## Support Vector Machines (SVM)"
   ]
  },
  {
   "cell_type": "code",
   "execution_count": 181,
   "id": "8703bf0f",
   "metadata": {},
   "outputs": [
    {
     "name": "stdout",
     "output_type": "stream",
     "text": [
      "Accuracy: 0.8363405471188952\n",
      "Precision: 0.8436855513769259\n",
      "Recall: 0.9642287694974003\n",
      "F1: 0.899938533208243\n",
      "AUC: 0.9432259099174201\n"
     ]
    },
    {
     "data": {
      "image/png": "[encoded data removed]",
      "text/plain": [
       "<Figure size 432x288 with 2 Axes>"
      ]
     },
     "metadata": {
      "needs_background": "light"
     },
     "output_type": "display_data"
    }
   ],
   "source": [
    "#Create a svm Classifier\n",
    "clf = svm.SVC(kernel='linear') # Linear Kernel\n",
    "\n",
    "#Train the model using the training sets\n",
    "clf.fit(X, y)\n",
    "\n",
    "#Predict the response for test dataset\n",
    "y_pred = clf.predict(X)\n",
    "\n",
    "CnfMatrix ('SVM_no_train_test', y, y_pred)"
   ]
  },
  {
   "cell_type": "markdown",
   "id": "2532ec70",
   "metadata": {},
   "source": [
    "### KNN using cross validation"
   ]
  },
  {
   "cell_type": "code",
   "execution_count": 182,
   "id": "50a0ffc8",
   "metadata": {},
   "outputs": [],
   "source": [
    "from sklearn.model_selection import KFold\n",
    "from sklearn.model_selection import cross_val_score\n",
    "# prepare the cross-validation procedure\n",
    "cv = KFold(n_splits=10, random_state=1, shuffle=True)\n",
    "# create model\n",
    "#model = LogisticRegression()\n",
    "# evaluate model\n",
    "scores = cross_val_score(classifier, X, y, scoring='accuracy', cv=cv, n_jobs=-1)"
   ]
  },
  {
   "cell_type": "code",
   "execution_count": 183,
   "id": "0efa7b72",
   "metadata": {},
   "outputs": [
    {
     "name": "stdout",
     "output_type": "stream",
     "text": [
      "Accuracy: 0.759 (0.009)\n"
     ]
    }
   ],
   "source": [
    "# report performance\n",
    "print('Accuracy: %.3f (%.3f)' % (np.mean(scores), np.std(scores)))"
   ]
  },
  {
   "cell_type": "markdown",
   "id": "cc805547",
   "metadata": {},
   "source": [
    "## Exercise 5:\n",
    "\n",
    "Perform some variable engineering process to improve prediction\n",
    "\n",
    "We will do a PCA to reduce the large number of columns and simplify the calculations."
   ]
  },
  {
   "cell_type": "code",
   "execution_count": 184,
   "id": "e6ce3eff",
   "metadata": {},
   "outputs": [
    {
     "data": {
      "text/plain": [
       "(18899, 333)"
      ]
     },
     "execution_count": 184,
     "metadata": {},
     "output_type": "execute_result"
    }
   ],
   "source": [
    "from sklearn.decomposition import PCA \n",
    "\n",
    "df_PCA = df4.copy()\n",
    "df_PCA.shape"
   ]
  },
  {
   "cell_type": "code",
   "execution_count": 185,
   "id": "58253b63",
   "metadata": {},
   "outputs": [
    {
     "name": "stdout",
     "output_type": "stream",
     "text": [
      "X Train shape:  (14174, 332)\n",
      "X Test shape:  (4725, 332)\n",
      "y Train shape:  (14174,)\n",
      "y Test shape:  (4725,)\n"
     ]
    }
   ],
   "source": [
    "Train_Test (df_PCA)"
   ]
  },
  {
   "cell_type": "code",
   "execution_count": 186,
   "id": "4778d02c",
   "metadata": {},
   "outputs": [
    {
     "name": "stdout",
     "output_type": "stream",
     "text": [
      "We have 332 features which have been reduced using PCA to 2 maintaining the 99% of the variance\n"
     ]
    }
   ],
   "source": [
    "pca = PCA(.99) #Normally 95% would already be a good value for the variance, but in this case we case push it to 99% of the variance\n",
    "pca.fit(X_train)\n",
    "X_train = pca.transform(X_train)\n",
    "X_test = pca.transform(X_test)\n",
    "print ('We have {} features which have been reduced using PCA to {} maintaining the 99% of the variance'.format(len(X[1,:]), pca.n_components_))"
   ]
  },
  {
   "cell_type": "markdown",
   "id": "b70c3275",
   "metadata": {},
   "source": [
    "## K-Nearest Neighbors Algorithmm (KNN)"
   ]
  },
  {
   "cell_type": "code",
   "execution_count": 187,
   "id": "6f6e8c2d",
   "metadata": {},
   "outputs": [
    {
     "name": "stdout",
     "output_type": "stream",
     "text": [
      "First we need to select the number of neighbors that we will use in the model /n Therefore we calculate the mean error against the number of neightbors\n",
      "I decide that when the mean error improve less than 1% that will indicate the of neighbors required =  15\n",
      "Accuracy: 0.7671957671957672\n",
      "Precision: 0.7874828060522696\n",
      "Recall: 0.9520509977827051\n",
      "F1: 0.8619824341279799\n",
      "AUC: 0.671551654832492\n"
     ]
    },
    {
     "data": {
      "image/png": "[encoded data removed]",
      "text/plain": [
       "<Figure size 864x432 with 1 Axes>"
      ]
     },
     "metadata": {
      "needs_background": "light"
     },
     "output_type": "display_data"
    },
    {
     "data": {
      "image/png": "[encoded data removed]",
      "text/plain": [
       "<Figure size 432x288 with 2 Axes>"
      ]
     },
     "metadata": {
      "needs_background": "light"
     },
     "output_type": "display_data"
    }
   ],
   "source": [
    "KNN (X_train, X_test, y_train, y_test,'KNN_PCA')"
   ]
  },
  {
   "cell_type": "code",
   "execution_count": 188,
   "id": "852ee515",
   "metadata": {},
   "outputs": [
    {
     "data": {
      "image/png": "[encoded data removed]",
      "text/plain": [
       "<Figure size 432x288 with 1 Axes>"
      ]
     },
     "metadata": {
      "needs_background": "light"
     },
     "output_type": "display_data"
    }
   ],
   "source": [
    "RocCurve (y_test, y_pred_prob)"
   ]
  },
  {
   "cell_type": "markdown",
   "id": "f4a1a3d6",
   "metadata": {},
   "source": [
    "## Logistic Regression (LR)"
   ]
  },
  {
   "cell_type": "code",
   "execution_count": 189,
   "id": "b519b388",
   "metadata": {},
   "outputs": [
    {
     "name": "stdout",
     "output_type": "stream",
     "text": [
      "Accuracy: 0.7676190476190476\n",
      "Precision: 0.7688517566409597\n",
      "Recall: 0.9947339246119734\n",
      "F1: 0.8673272112131465\n",
      "AUC: 0.671551654832492\n"
     ]
    },
    {
     "data": {
      "image/png": "[encoded data removed]",
      "text/plain": [
       "<Figure size 432x288 with 2 Axes>"
      ]
     },
     "metadata": {
      "needs_background": "light"
     },
     "output_type": "display_data"
    }
   ],
   "source": [
    "LR (X_train, X_test, y_train, y_test,'LR_PCA')"
   ]
  },
  {
   "cell_type": "code",
   "execution_count": 190,
   "id": "8ea7c877",
   "metadata": {},
   "outputs": [
    {
     "data": {
      "image/png": "[encoded data removed]",
      "text/plain": [
       "<Figure size 432x288 with 1 Axes>"
      ]
     },
     "metadata": {
      "needs_background": "light"
     },
     "output_type": "display_data"
    }
   ],
   "source": [
    "RocCurve (y_test, y_pred_prob)"
   ]
  },
  {
   "cell_type": "markdown",
   "id": "35944c90",
   "metadata": {},
   "source": [
    "## Exercise 6:\n",
    "\n",
    "Do not use the DepDelay variable when making predictions"
   ]
  },
  {
   "cell_type": "code",
   "execution_count": 191,
   "id": "f47d904a",
   "metadata": {},
   "outputs": [],
   "source": [
    "df5 = df4.drop(['DepDelay'], axis=1)"
   ]
  },
  {
   "cell_type": "code",
   "execution_count": 192,
   "id": "e9f34033",
   "metadata": {},
   "outputs": [
    {
     "name": "stdout",
     "output_type": "stream",
     "text": [
      "X Train shape:  (14174, 331)\n",
      "X Test shape:  (4725, 331)\n",
      "y Train shape:  (14174,)\n",
      "y Test shape:  (4725,)\n"
     ]
    }
   ],
   "source": [
    "#The target variable is ArrDelay \n",
    "Train_Test (df5)"
   ]
  },
  {
   "cell_type": "markdown",
   "id": "5771718c",
   "metadata": {},
   "source": [
    "## K-Nearest Neighbors Algorithmm (KNN)"
   ]
  },
  {
   "cell_type": "code",
   "execution_count": 193,
   "id": "de66f4a4",
   "metadata": {},
   "outputs": [
    {
     "name": "stdout",
     "output_type": "stream",
     "text": [
      "First we need to select the number of neighbors that we will use in the model /n Therefore we calculate the mean error against the number of neightbors\n",
      "I decide that when the mean error improve less than 1% that will indicate the of neighbors required =  15\n",
      "Accuracy: 0.7663492063492063\n",
      "Precision: 0.7891454965357968\n",
      "Recall: 0.9470620842572062\n",
      "F1: 0.8609221466364324\n",
      "AUC: 0.6843451436874587\n"
     ]
    },
    {
     "data": {
      "image/png": "[encoded data removed]",
      "text/plain": [
       "<Figure size 864x432 with 1 Axes>"
      ]
     },
     "metadata": {
      "needs_background": "light"
     },
     "output_type": "display_data"
    },
    {
     "data": {
      "image/png": "[encoded data removed]",
      "text/plain": [
       "<Figure size 432x288 with 2 Axes>"
      ]
     },
     "metadata": {
      "needs_background": "light"
     },
     "output_type": "display_data"
    }
   ],
   "source": [
    "y_pred = KNN (X_train, X_test, y_train, y_test, 'KNN_NoDepDelay')"
   ]
  },
  {
   "cell_type": "code",
   "execution_count": 194,
   "id": "773ce444",
   "metadata": {},
   "outputs": [
    {
     "data": {
      "image/png": "[encoded data removed]",
      "text/plain": [
       "<Figure size 432x288 with 1 Axes>"
      ]
     },
     "metadata": {
      "needs_background": "light"
     },
     "output_type": "display_data"
    }
   ],
   "source": [
    "RocCurve (y_test, y_pred_prob)"
   ]
  },
  {
   "cell_type": "markdown",
   "id": "f4b0fe4e",
   "metadata": {},
   "source": [
    "## Logistic Regression (LR)"
   ]
  },
  {
   "cell_type": "code",
   "execution_count": 195,
   "id": "6f8890db",
   "metadata": {},
   "outputs": [
    {
     "name": "stdout",
     "output_type": "stream",
     "text": [
      "Accuracy: 0.8721693121693121\n",
      "Precision: 0.8940188877229801\n",
      "Recall: 0.9445676274944568\n",
      "F1: 0.9185983827493261\n",
      "AUC: 0.6843451436874587\n"
     ]
    },
    {
     "data": {
      "image/png": "[encoded data removed]",
      "text/plain": [
       "<Figure size 432x288 with 2 Axes>"
      ]
     },
     "metadata": {
      "needs_background": "light"
     },
     "output_type": "display_data"
    }
   ],
   "source": [
    "LR (X_train, X_test, y_train, y_test,'LR_No_DepDelay')"
   ]
  },
  {
   "cell_type": "code",
   "execution_count": 196,
   "id": "4f0a355c",
   "metadata": {},
   "outputs": [
    {
     "data": {
      "image/png": "[encoded data removed]",
      "text/plain": [
       "<Figure size 432x288 with 1 Axes>"
      ]
     },
     "metadata": {
      "needs_background": "light"
     },
     "output_type": "display_data"
    }
   ],
   "source": [
    "RocCurve (y_test, y_pred_prob)"
   ]
  },
  {
   "cell_type": "markdown",
   "id": "1e5bb138",
   "metadata": {},
   "source": [
    "## Support Vector Machines (SVM)"
   ]
  },
  {
   "cell_type": "code",
   "execution_count": 197,
   "id": "c3c8f7cf",
   "metadata": {},
   "outputs": [
    {
     "name": "stdout",
     "output_type": "stream",
     "text": [
      "Accuracy: 0.8021164021164021\n",
      "Precision: 0.8157335223245925\n",
      "Recall: 0.957039911308204\n",
      "F1: 0.8807550057390638\n",
      "AUC: 0.6843451436874587\n"
     ]
    },
    {
     "data": {
      "image/png": "[encoded data removed]",
      "text/plain": [
       "<Figure size 432x288 with 2 Axes>"
      ]
     },
     "metadata": {
      "needs_background": "light"
     },
     "output_type": "display_data"
    }
   ],
   "source": [
    "SVM (X_train, X_test, y_train, y_test,'SVM_NoDepDelay')"
   ]
  },
  {
   "cell_type": "markdown",
   "id": "58048f6b",
   "metadata": {},
   "source": [
    "### Conclusion:\n",
    "\n",
    "From all the methods used, it looks consistent that the Logistic Regression it always provide better results than the other methods, and would therefore be the best model to use."
   ]
  },
  {
   "cell_type": "code",
   "execution_count": 198,
   "id": "b73c745e",
   "metadata": {},
   "outputs": [
    {
     "data": {
      "text/html": [
       "<div>\n",
       "<style scoped>\n",
       "    .dataframe tbody tr th:only-of-type {\n",
       "        vertical-align: middle;\n",
       "    }\n",
       "\n",
       "    .dataframe tbody tr th {\n",
       "        vertical-align: top;\n",
       "    }\n",
       "\n",
       "    .dataframe thead th {\n",
       "        text-align: right;\n",
       "    }\n",
       "</style>\n",
       "<table border=\"1\" class=\"dataframe\">\n",
       "  <thead>\n",
       "    <tr style=\"text-align: right;\">\n",
       "      <th></th>\n",
       "      <th>Accuracy</th>\n",
       "      <th>Precision</th>\n",
       "      <th>Recall</th>\n",
       "      <th>F1</th>\n",
       "      <th>AUC</th>\n",
       "    </tr>\n",
       "  </thead>\n",
       "  <tbody>\n",
       "    <tr>\n",
       "      <th>KNN</th>\n",
       "      <td>0.766349</td>\n",
       "      <td>0.789279</td>\n",
       "      <td>0.946785</td>\n",
       "      <td>0.860887</td>\n",
       "      <td>0.683569</td>\n",
       "    </tr>\n",
       "    <tr>\n",
       "      <th>LR</th>\n",
       "      <td>0.895026</td>\n",
       "      <td>0.908185</td>\n",
       "      <td>0.959534</td>\n",
       "      <td>0.933154</td>\n",
       "      <td>0.683569</td>\n",
       "    </tr>\n",
       "    <tr>\n",
       "      <th>SVM</th>\n",
       "      <td>0.830265</td>\n",
       "      <td>0.838889</td>\n",
       "      <td>0.962583</td>\n",
       "      <td>0.896489</td>\n",
       "      <td>0.683569</td>\n",
       "    </tr>\n",
       "    <tr>\n",
       "      <th>XGBoost</th>\n",
       "      <td>0.766349</td>\n",
       "      <td>0.789279</td>\n",
       "      <td>0.946785</td>\n",
       "      <td>0.860887</td>\n",
       "      <td>0.683569</td>\n",
       "    </tr>\n",
       "    <tr>\n",
       "      <th>KNN_Param1</th>\n",
       "      <td>0.760635</td>\n",
       "      <td>0.793275</td>\n",
       "      <td>0.928492</td>\n",
       "      <td>0.855574</td>\n",
       "      <td>0.676187</td>\n",
       "    </tr>\n",
       "    <tr>\n",
       "      <th>SVM_Param1</th>\n",
       "      <td>0.763598</td>\n",
       "      <td>0.763598</td>\n",
       "      <td>1.000000</td>\n",
       "      <td>0.865955</td>\n",
       "      <td>0.676187</td>\n",
       "    </tr>\n",
       "    <tr>\n",
       "      <th>LR_no_train_test</th>\n",
       "      <td>0.905445</td>\n",
       "      <td>0.915232</td>\n",
       "      <td>0.965546</td>\n",
       "      <td>0.939716</td>\n",
       "      <td>0.943226</td>\n",
       "    </tr>\n",
       "    <tr>\n",
       "      <th>SVM_no_train_test</th>\n",
       "      <td>0.836341</td>\n",
       "      <td>0.843686</td>\n",
       "      <td>0.964229</td>\n",
       "      <td>0.899939</td>\n",
       "      <td>0.943226</td>\n",
       "    </tr>\n",
       "    <tr>\n",
       "      <th>KNN_PCA</th>\n",
       "      <td>0.767196</td>\n",
       "      <td>0.787483</td>\n",
       "      <td>0.952051</td>\n",
       "      <td>0.861982</td>\n",
       "      <td>0.671552</td>\n",
       "    </tr>\n",
       "    <tr>\n",
       "      <th>LR_PCA</th>\n",
       "      <td>0.767619</td>\n",
       "      <td>0.768852</td>\n",
       "      <td>0.994734</td>\n",
       "      <td>0.867327</td>\n",
       "      <td>0.671552</td>\n",
       "    </tr>\n",
       "    <tr>\n",
       "      <th>KNN_NoDepDelay</th>\n",
       "      <td>0.766349</td>\n",
       "      <td>0.789145</td>\n",
       "      <td>0.947062</td>\n",
       "      <td>0.860922</td>\n",
       "      <td>0.684345</td>\n",
       "    </tr>\n",
       "    <tr>\n",
       "      <th>LR_No_DepDelay</th>\n",
       "      <td>0.872169</td>\n",
       "      <td>0.894019</td>\n",
       "      <td>0.944568</td>\n",
       "      <td>0.918598</td>\n",
       "      <td>0.684345</td>\n",
       "    </tr>\n",
       "    <tr>\n",
       "      <th>SVM_NoDepDelay</th>\n",
       "      <td>0.802116</td>\n",
       "      <td>0.815734</td>\n",
       "      <td>0.957040</td>\n",
       "      <td>0.880755</td>\n",
       "      <td>0.684345</td>\n",
       "    </tr>\n",
       "  </tbody>\n",
       "</table>\n",
       "</div>"
      ],
      "text/plain": [
       "                   Accuracy  Precision    Recall        F1       AUC\n",
       "KNN                0.766349   0.789279  0.946785  0.860887  0.683569\n",
       "LR                 0.895026   0.908185  0.959534  0.933154  0.683569\n",
       "SVM                0.830265   0.838889  0.962583  0.896489  0.683569\n",
       "XGBoost            0.766349   0.789279  0.946785  0.860887  0.683569\n",
       "KNN_Param1         0.760635   0.793275  0.928492  0.855574  0.676187\n",
       "SVM_Param1         0.763598   0.763598  1.000000  0.865955  0.676187\n",
       "LR_no_train_test   0.905445   0.915232  0.965546  0.939716  0.943226\n",
       "SVM_no_train_test  0.836341   0.843686  0.964229  0.899939  0.943226\n",
       "KNN_PCA            0.767196   0.787483  0.952051  0.861982  0.671552\n",
       "LR_PCA             0.767619   0.768852  0.994734  0.867327  0.671552\n",
       "KNN_NoDepDelay     0.766349   0.789145  0.947062  0.860922  0.684345\n",
       "LR_No_DepDelay     0.872169   0.894019  0.944568  0.918598  0.684345\n",
       "SVM_NoDepDelay     0.802116   0.815734  0.957040  0.880755  0.684345"
      ]
     },
     "execution_count": 198,
     "metadata": {},
     "output_type": "execute_result"
    }
   ],
   "source": [
    "df_metrics"
   ]
  },
  {
   "cell_type": "code",
   "execution_count": null,
   "id": "9536f43f",
   "metadata": {},
   "outputs": [],
   "source": []
  }
 ],
 "metadata": {
  "kernelspec": {
   "display_name": "Python 3 (ipykernel)",
   "language": "python",
   "name": "python3"
  },
  "language_info": {
   "codemirror_mode": {
    "name": "ipython",
    "version": 3
   },
   "file_extension": ".py",
   "mimetype": "text/x-python",
   "name": "python",
   "nbconvert_exporter": "python",
   "pygments_lexer": "ipython3",
   "version": "3.9.7"
  }
 },
 "nbformat": 4,
 "nbformat_minor": 5
}
